{
 "cells": [
  {
   "cell_type": "markdown",
   "metadata": {},
   "source": [
    "# Mushrooms!"
   ]
  },
  {
   "cell_type": "markdown",
   "metadata": {},
   "source": [
    "Data source: https://www.kaggle.com/uciml/mushroom-classification\n",
    "\n",
    "Attempting to \n",
    " - build a classification model to determine if mushrooms are edible\n",
    " - determine which machine learning algorithm models the data best\n",
    " - determine which feature in the data is most important in determining whether a mushroom is poisonous "
   ]
  },
  {
   "cell_type": "code",
   "execution_count": 1,
   "metadata": {},
   "outputs": [],
   "source": [
    "import pandas as pd\n",
    "import numpy as np\n",
    "import matplotlib.pyplot as plt\n",
    "import seaborn as sns"
   ]
  },
  {
   "cell_type": "code",
   "execution_count": 313,
   "metadata": {},
   "outputs": [],
   "source": [
    "data = pd.read_csv(\"data\\mushrooms.csv\")"
   ]
  },
  {
   "cell_type": "code",
   "execution_count": 314,
   "metadata": {},
   "outputs": [
    {
     "name": "stdout",
     "output_type": "stream",
     "text": [
      "<class 'pandas.core.frame.DataFrame'>\n",
      "RangeIndex: 8124 entries, 0 to 8123\n",
      "Data columns (total 23 columns):\n",
      " #   Column                    Non-Null Count  Dtype \n",
      "---  ------                    --------------  ----- \n",
      " 0   class                     8124 non-null   object\n",
      " 1   cap-shape                 8124 non-null   object\n",
      " 2   cap-surface               8124 non-null   object\n",
      " 3   cap-color                 8124 non-null   object\n",
      " 4   bruises                   8124 non-null   object\n",
      " 5   odor                      8124 non-null   object\n",
      " 6   gill-attachment           8124 non-null   object\n",
      " 7   gill-spacing              8124 non-null   object\n",
      " 8   gill-size                 8124 non-null   object\n",
      " 9   gill-color                8124 non-null   object\n",
      " 10  stalk-shape               8124 non-null   object\n",
      " 11  stalk-root                8124 non-null   object\n",
      " 12  stalk-surface-above-ring  8124 non-null   object\n",
      " 13  stalk-surface-below-ring  8124 non-null   object\n",
      " 14  stalk-color-above-ring    8124 non-null   object\n",
      " 15  stalk-color-below-ring    8124 non-null   object\n",
      " 16  veil-type                 8124 non-null   object\n",
      " 17  veil-color                8124 non-null   object\n",
      " 18  ring-number               8124 non-null   object\n",
      " 19  ring-type                 8124 non-null   object\n",
      " 20  spore-print-color         8124 non-null   object\n",
      " 21  population                8124 non-null   object\n",
      " 22  habitat                   8124 non-null   object\n",
      "dtypes: object(23)\n",
      "memory usage: 1.4+ MB\n"
     ]
    }
   ],
   "source": [
    "data.info()"
   ]
  },
  {
   "cell_type": "markdown",
   "metadata": {},
   "source": [
    "8124 instances, no missing/null data"
   ]
  },
  {
   "cell_type": "code",
   "execution_count": 4,
   "metadata": {},
   "outputs": [
    {
     "data": {
      "text/html": [
       "<div>\n",
       "<style scoped>\n",
       "    .dataframe tbody tr th:only-of-type {\n",
       "        vertical-align: middle;\n",
       "    }\n",
       "\n",
       "    .dataframe tbody tr th {\n",
       "        vertical-align: top;\n",
       "    }\n",
       "\n",
       "    .dataframe thead th {\n",
       "        text-align: right;\n",
       "    }\n",
       "</style>\n",
       "<table border=\"1\" class=\"dataframe\">\n",
       "  <thead>\n",
       "    <tr style=\"text-align: right;\">\n",
       "      <th></th>\n",
       "      <th>class</th>\n",
       "      <th>cap-shape</th>\n",
       "      <th>cap-surface</th>\n",
       "      <th>cap-color</th>\n",
       "      <th>bruises</th>\n",
       "      <th>odor</th>\n",
       "      <th>gill-attachment</th>\n",
       "      <th>gill-spacing</th>\n",
       "      <th>gill-size</th>\n",
       "      <th>gill-color</th>\n",
       "      <th>...</th>\n",
       "      <th>stalk-surface-below-ring</th>\n",
       "      <th>stalk-color-above-ring</th>\n",
       "      <th>stalk-color-below-ring</th>\n",
       "      <th>veil-type</th>\n",
       "      <th>veil-color</th>\n",
       "      <th>ring-number</th>\n",
       "      <th>ring-type</th>\n",
       "      <th>spore-print-color</th>\n",
       "      <th>population</th>\n",
       "      <th>habitat</th>\n",
       "    </tr>\n",
       "  </thead>\n",
       "  <tbody>\n",
       "    <tr>\n",
       "      <th>0</th>\n",
       "      <td>p</td>\n",
       "      <td>x</td>\n",
       "      <td>s</td>\n",
       "      <td>n</td>\n",
       "      <td>t</td>\n",
       "      <td>p</td>\n",
       "      <td>f</td>\n",
       "      <td>c</td>\n",
       "      <td>n</td>\n",
       "      <td>k</td>\n",
       "      <td>...</td>\n",
       "      <td>s</td>\n",
       "      <td>w</td>\n",
       "      <td>w</td>\n",
       "      <td>p</td>\n",
       "      <td>w</td>\n",
       "      <td>o</td>\n",
       "      <td>p</td>\n",
       "      <td>k</td>\n",
       "      <td>s</td>\n",
       "      <td>u</td>\n",
       "    </tr>\n",
       "    <tr>\n",
       "      <th>1</th>\n",
       "      <td>e</td>\n",
       "      <td>x</td>\n",
       "      <td>s</td>\n",
       "      <td>y</td>\n",
       "      <td>t</td>\n",
       "      <td>a</td>\n",
       "      <td>f</td>\n",
       "      <td>c</td>\n",
       "      <td>b</td>\n",
       "      <td>k</td>\n",
       "      <td>...</td>\n",
       "      <td>s</td>\n",
       "      <td>w</td>\n",
       "      <td>w</td>\n",
       "      <td>p</td>\n",
       "      <td>w</td>\n",
       "      <td>o</td>\n",
       "      <td>p</td>\n",
       "      <td>n</td>\n",
       "      <td>n</td>\n",
       "      <td>g</td>\n",
       "    </tr>\n",
       "    <tr>\n",
       "      <th>2</th>\n",
       "      <td>e</td>\n",
       "      <td>b</td>\n",
       "      <td>s</td>\n",
       "      <td>w</td>\n",
       "      <td>t</td>\n",
       "      <td>l</td>\n",
       "      <td>f</td>\n",
       "      <td>c</td>\n",
       "      <td>b</td>\n",
       "      <td>n</td>\n",
       "      <td>...</td>\n",
       "      <td>s</td>\n",
       "      <td>w</td>\n",
       "      <td>w</td>\n",
       "      <td>p</td>\n",
       "      <td>w</td>\n",
       "      <td>o</td>\n",
       "      <td>p</td>\n",
       "      <td>n</td>\n",
       "      <td>n</td>\n",
       "      <td>m</td>\n",
       "    </tr>\n",
       "    <tr>\n",
       "      <th>3</th>\n",
       "      <td>p</td>\n",
       "      <td>x</td>\n",
       "      <td>y</td>\n",
       "      <td>w</td>\n",
       "      <td>t</td>\n",
       "      <td>p</td>\n",
       "      <td>f</td>\n",
       "      <td>c</td>\n",
       "      <td>n</td>\n",
       "      <td>n</td>\n",
       "      <td>...</td>\n",
       "      <td>s</td>\n",
       "      <td>w</td>\n",
       "      <td>w</td>\n",
       "      <td>p</td>\n",
       "      <td>w</td>\n",
       "      <td>o</td>\n",
       "      <td>p</td>\n",
       "      <td>k</td>\n",
       "      <td>s</td>\n",
       "      <td>u</td>\n",
       "    </tr>\n",
       "    <tr>\n",
       "      <th>4</th>\n",
       "      <td>e</td>\n",
       "      <td>x</td>\n",
       "      <td>s</td>\n",
       "      <td>g</td>\n",
       "      <td>f</td>\n",
       "      <td>n</td>\n",
       "      <td>f</td>\n",
       "      <td>w</td>\n",
       "      <td>b</td>\n",
       "      <td>k</td>\n",
       "      <td>...</td>\n",
       "      <td>s</td>\n",
       "      <td>w</td>\n",
       "      <td>w</td>\n",
       "      <td>p</td>\n",
       "      <td>w</td>\n",
       "      <td>o</td>\n",
       "      <td>e</td>\n",
       "      <td>n</td>\n",
       "      <td>a</td>\n",
       "      <td>g</td>\n",
       "    </tr>\n",
       "  </tbody>\n",
       "</table>\n",
       "<p>5 rows × 23 columns</p>\n",
       "</div>"
      ],
      "text/plain": [
       "  class cap-shape cap-surface cap-color bruises odor gill-attachment  \\\n",
       "0     p         x           s         n       t    p               f   \n",
       "1     e         x           s         y       t    a               f   \n",
       "2     e         b           s         w       t    l               f   \n",
       "3     p         x           y         w       t    p               f   \n",
       "4     e         x           s         g       f    n               f   \n",
       "\n",
       "  gill-spacing gill-size gill-color  ... stalk-surface-below-ring  \\\n",
       "0            c         n          k  ...                        s   \n",
       "1            c         b          k  ...                        s   \n",
       "2            c         b          n  ...                        s   \n",
       "3            c         n          n  ...                        s   \n",
       "4            w         b          k  ...                        s   \n",
       "\n",
       "  stalk-color-above-ring stalk-color-below-ring veil-type veil-color  \\\n",
       "0                      w                      w         p          w   \n",
       "1                      w                      w         p          w   \n",
       "2                      w                      w         p          w   \n",
       "3                      w                      w         p          w   \n",
       "4                      w                      w         p          w   \n",
       "\n",
       "  ring-number ring-type spore-print-color population habitat  \n",
       "0           o         p                 k          s       u  \n",
       "1           o         p                 n          n       g  \n",
       "2           o         p                 n          n       m  \n",
       "3           o         p                 k          s       u  \n",
       "4           o         e                 n          a       g  \n",
       "\n",
       "[5 rows x 23 columns]"
      ]
     },
     "execution_count": 4,
     "metadata": {},
     "output_type": "execute_result"
    }
   ],
   "source": [
    "data.head()"
   ]
  },
  {
   "cell_type": "markdown",
   "metadata": {},
   "source": [
    "# Exploratory Analysis"
   ]
  },
  {
   "cell_type": "code",
   "execution_count": 5,
   "metadata": {},
   "outputs": [
    {
     "data": {
      "text/html": [
       "<div>\n",
       "<style scoped>\n",
       "    .dataframe tbody tr th:only-of-type {\n",
       "        vertical-align: middle;\n",
       "    }\n",
       "\n",
       "    .dataframe tbody tr th {\n",
       "        vertical-align: top;\n",
       "    }\n",
       "\n",
       "    .dataframe thead th {\n",
       "        text-align: right;\n",
       "    }\n",
       "</style>\n",
       "<table border=\"1\" class=\"dataframe\">\n",
       "  <thead>\n",
       "    <tr style=\"text-align: right;\">\n",
       "      <th></th>\n",
       "      <th>class</th>\n",
       "      <th>cap-shape</th>\n",
       "      <th>cap-surface</th>\n",
       "      <th>cap-color</th>\n",
       "      <th>bruises</th>\n",
       "      <th>odor</th>\n",
       "      <th>gill-attachment</th>\n",
       "      <th>gill-spacing</th>\n",
       "      <th>gill-size</th>\n",
       "      <th>gill-color</th>\n",
       "      <th>...</th>\n",
       "      <th>stalk-surface-below-ring</th>\n",
       "      <th>stalk-color-above-ring</th>\n",
       "      <th>stalk-color-below-ring</th>\n",
       "      <th>veil-type</th>\n",
       "      <th>veil-color</th>\n",
       "      <th>ring-number</th>\n",
       "      <th>ring-type</th>\n",
       "      <th>spore-print-color</th>\n",
       "      <th>population</th>\n",
       "      <th>habitat</th>\n",
       "    </tr>\n",
       "  </thead>\n",
       "  <tbody>\n",
       "    <tr>\n",
       "      <th>count</th>\n",
       "      <td>8124</td>\n",
       "      <td>8124</td>\n",
       "      <td>8124</td>\n",
       "      <td>8124</td>\n",
       "      <td>8124</td>\n",
       "      <td>8124</td>\n",
       "      <td>8124</td>\n",
       "      <td>8124</td>\n",
       "      <td>8124</td>\n",
       "      <td>8124</td>\n",
       "      <td>...</td>\n",
       "      <td>8124</td>\n",
       "      <td>8124</td>\n",
       "      <td>8124</td>\n",
       "      <td>8124</td>\n",
       "      <td>8124</td>\n",
       "      <td>8124</td>\n",
       "      <td>8124</td>\n",
       "      <td>8124</td>\n",
       "      <td>8124</td>\n",
       "      <td>8124</td>\n",
       "    </tr>\n",
       "    <tr>\n",
       "      <th>unique</th>\n",
       "      <td>2</td>\n",
       "      <td>6</td>\n",
       "      <td>4</td>\n",
       "      <td>10</td>\n",
       "      <td>2</td>\n",
       "      <td>9</td>\n",
       "      <td>2</td>\n",
       "      <td>2</td>\n",
       "      <td>2</td>\n",
       "      <td>12</td>\n",
       "      <td>...</td>\n",
       "      <td>4</td>\n",
       "      <td>9</td>\n",
       "      <td>9</td>\n",
       "      <td>1</td>\n",
       "      <td>4</td>\n",
       "      <td>3</td>\n",
       "      <td>5</td>\n",
       "      <td>9</td>\n",
       "      <td>6</td>\n",
       "      <td>7</td>\n",
       "    </tr>\n",
       "    <tr>\n",
       "      <th>top</th>\n",
       "      <td>e</td>\n",
       "      <td>x</td>\n",
       "      <td>y</td>\n",
       "      <td>n</td>\n",
       "      <td>f</td>\n",
       "      <td>n</td>\n",
       "      <td>f</td>\n",
       "      <td>c</td>\n",
       "      <td>b</td>\n",
       "      <td>b</td>\n",
       "      <td>...</td>\n",
       "      <td>s</td>\n",
       "      <td>w</td>\n",
       "      <td>w</td>\n",
       "      <td>p</td>\n",
       "      <td>w</td>\n",
       "      <td>o</td>\n",
       "      <td>p</td>\n",
       "      <td>w</td>\n",
       "      <td>v</td>\n",
       "      <td>d</td>\n",
       "    </tr>\n",
       "    <tr>\n",
       "      <th>freq</th>\n",
       "      <td>4208</td>\n",
       "      <td>3656</td>\n",
       "      <td>3244</td>\n",
       "      <td>2284</td>\n",
       "      <td>4748</td>\n",
       "      <td>3528</td>\n",
       "      <td>7914</td>\n",
       "      <td>6812</td>\n",
       "      <td>5612</td>\n",
       "      <td>1728</td>\n",
       "      <td>...</td>\n",
       "      <td>4936</td>\n",
       "      <td>4464</td>\n",
       "      <td>4384</td>\n",
       "      <td>8124</td>\n",
       "      <td>7924</td>\n",
       "      <td>7488</td>\n",
       "      <td>3968</td>\n",
       "      <td>2388</td>\n",
       "      <td>4040</td>\n",
       "      <td>3148</td>\n",
       "    </tr>\n",
       "  </tbody>\n",
       "</table>\n",
       "<p>4 rows × 23 columns</p>\n",
       "</div>"
      ],
      "text/plain": [
       "       class cap-shape cap-surface cap-color bruises  odor gill-attachment  \\\n",
       "count   8124      8124        8124      8124    8124  8124            8124   \n",
       "unique     2         6           4        10       2     9               2   \n",
       "top        e         x           y         n       f     n               f   \n",
       "freq    4208      3656        3244      2284    4748  3528            7914   \n",
       "\n",
       "       gill-spacing gill-size gill-color  ... stalk-surface-below-ring  \\\n",
       "count          8124      8124       8124  ...                     8124   \n",
       "unique            2         2         12  ...                        4   \n",
       "top               c         b          b  ...                        s   \n",
       "freq           6812      5612       1728  ...                     4936   \n",
       "\n",
       "       stalk-color-above-ring stalk-color-below-ring veil-type veil-color  \\\n",
       "count                    8124                   8124      8124       8124   \n",
       "unique                      9                      9         1          4   \n",
       "top                         w                      w         p          w   \n",
       "freq                     4464                   4384      8124       7924   \n",
       "\n",
       "       ring-number ring-type spore-print-color population habitat  \n",
       "count         8124      8124              8124       8124    8124  \n",
       "unique           3         5                 9          6       7  \n",
       "top              o         p                 w          v       d  \n",
       "freq          7488      3968              2388       4040    3148  \n",
       "\n",
       "[4 rows x 23 columns]"
      ]
     },
     "execution_count": 5,
     "metadata": {},
     "output_type": "execute_result"
    }
   ],
   "source": [
    "overview=data.describe()\n",
    "data.describe()"
   ]
  },
  {
   "cell_type": "markdown",
   "metadata": {},
   "source": [
    "All columns are descriptive - no numerical data at all\n"
   ]
  },
  {
   "cell_type": "code",
   "execution_count": 6,
   "metadata": {},
   "outputs": [
    {
     "data": {
      "text/plain": [
       "class                       NaN\n",
       "cap-shape                   NaN\n",
       "cap-surface                 NaN\n",
       "cap-color                   NaN\n",
       "bruises                     NaN\n",
       "odor                        NaN\n",
       "gill-attachment             NaN\n",
       "gill-spacing                NaN\n",
       "gill-size                   NaN\n",
       "gill-color                  NaN\n",
       "stalk-shape                 NaN\n",
       "stalk-root                  NaN\n",
       "stalk-surface-above-ring    NaN\n",
       "stalk-surface-below-ring    NaN\n",
       "stalk-color-above-ring      NaN\n",
       "stalk-color-below-ring      NaN\n",
       "veil-type                     1\n",
       "veil-color                  NaN\n",
       "ring-number                 NaN\n",
       "ring-type                   NaN\n",
       "spore-print-color           NaN\n",
       "population                  NaN\n",
       "habitat                     NaN\n",
       "Name: unique, dtype: object"
      ]
     },
     "execution_count": 6,
     "metadata": {},
     "output_type": "execute_result"
    }
   ],
   "source": [
    "overview[overview==1].loc[\"unique\"]\n",
    "# veil-type feature is useless, we can drop it"
   ]
  },
  {
   "cell_type": "code",
   "execution_count": 7,
   "metadata": {},
   "outputs": [
    {
     "data": {
      "text/plain": [
       "<AxesSubplot:xlabel='class', ylabel='count'>"
      ]
     },
     "execution_count": 7,
     "metadata": {},
     "output_type": "execute_result"
    },
    {
     "data": {
      "image/png": "[encoded data removed]",
      "text/plain": [
       "<Figure size 432x288 with 1 Axes>"
      ]
     },
     "metadata": {
      "needs_background": "light"
     },
     "output_type": "display_data"
    }
   ],
   "source": [
    "sns.countplot(x=\"class\",data=data)\n",
    "# fairly even split between classes"
   ]
  },
  {
   "cell_type": "code",
   "execution_count": 8,
   "metadata": {},
   "outputs": [
    {
     "data": {
      "text/plain": [
       "<AxesSubplot:xlabel='class', ylabel='count'>"
      ]
     },
     "execution_count": 8,
     "metadata": {},
     "output_type": "execute_result"
    },
    {
     "data": {
      "image/png": "[encoded data removed]",
      "text/plain": [
       "<Figure size 432x288 with 1 Axes>"
      ]
     },
     "metadata": {
      "needs_background": "light"
     },
     "output_type": "display_data"
    }
   ],
   "source": [
    "sns.countplot(x=\"class\",data=data,hue=\"cap-shape\")\n",
    "# very few conical or sunken cap shapes\n",
    "# very few poisonous mushrooms have a sunken shape\n",
    "# very few edible mushrooms have a conical shape"
   ]
  },
  {
   "cell_type": "code",
   "execution_count": 9,
   "metadata": {},
   "outputs": [
    {
     "data": {
      "text/plain": [
       "<AxesSubplot:xlabel='class', ylabel='count'>"
      ]
     },
     "execution_count": 9,
     "metadata": {},
     "output_type": "execute_result"
    },
    {
     "data": {
      "image/png": "[encoded data removed]",
      "text/plain": [
       "<Figure size 432x288 with 1 Axes>"
      ]
     },
     "metadata": {
      "needs_background": "light"
     },
     "output_type": "display_data"
    }
   ],
   "source": [
    "sns.countplot(x=\"class\",hue=\"cap-color\",data=data)\n",
    "# very few purple, cinnamon, green mushroom caps"
   ]
  },
  {
   "cell_type": "code",
   "execution_count": 10,
   "metadata": {},
   "outputs": [
    {
     "data": {
      "text/plain": [
       "<AxesSubplot:xlabel='class', ylabel='count'>"
      ]
     },
     "execution_count": 10,
     "metadata": {},
     "output_type": "execute_result"
    },
    {
     "data": {
      "image/png": "[encoded data removed]",
      "text/plain": [
       "<Figure size 432x288 with 1 Axes>"
      ]
     },
     "metadata": {
      "needs_background": "light"
     },
     "output_type": "display_data"
    }
   ],
   "source": [
    "sns.countplot(x=\"class\",hue=\"bruises\",data=data)\n",
    "# poisononous mushrooms are less likely to have bruises"
   ]
  },
  {
   "cell_type": "code",
   "execution_count": 11,
   "metadata": {},
   "outputs": [
    {
     "data": {
      "text/plain": [
       "<AxesSubplot:xlabel='class', ylabel='count'>"
      ]
     },
     "execution_count": 11,
     "metadata": {},
     "output_type": "execute_result"
    },
    {
     "data": {
      "image/png": "[encoded data removed]",
      "text/plain": [
       "<Figure size 432x288 with 1 Axes>"
      ]
     },
     "metadata": {
      "needs_background": "light"
     },
     "output_type": "display_data"
    }
   ],
   "source": [
    "sns.countplot(x=\"class\",hue=\"odor\",data=data)\n",
    "# edible mushrooms only seem to have an almond, anise or no odour\n",
    "# very few poisonous mushrooms have almond or anise odour"
   ]
  },
  {
   "cell_type": "code",
   "execution_count": 12,
   "metadata": {},
   "outputs": [
    {
     "data": {
      "text/plain": [
       "<AxesSubplot:xlabel='class', ylabel='count'>"
      ]
     },
     "execution_count": 12,
     "metadata": {},
     "output_type": "execute_result"
    },
    {
     "data": {
      "image/png": "[encoded data removed]",
      "text/plain": [
       "<Figure size 1080x360 with 2 Axes>"
      ]
     },
     "metadata": {
      "needs_background": "light"
     },
     "output_type": "display_data"
    }
   ],
   "source": [
    "fig, axes = plt.subplots(1, 2, figsize=(15,5))\n",
    "sns.countplot(ax=axes[0],x=\"gill-attachment\",data=data)\n",
    "sns.countplot(ax=axes[1],x=\"class\", hue=\"gill-attachment\",data=data)\n",
    "# almost all instances have no gill attachment, CONSIDER REMOVING FEATURE\n",
    "# when gills are attached, they are more likely to be edible"
   ]
  },
  {
   "cell_type": "code",
   "execution_count": 13,
   "metadata": {},
   "outputs": [
    {
     "data": {
      "text/plain": [
       "<AxesSubplot:xlabel='class', ylabel='count'>"
      ]
     },
     "execution_count": 13,
     "metadata": {},
     "output_type": "execute_result"
    },
    {
     "data": {
      "image/png": "[encoded data removed]",
      "text/plain": [
       "<Figure size 1080x360 with 2 Axes>"
      ]
     },
     "metadata": {
      "needs_background": "light"
     },
     "output_type": "display_data"
    }
   ],
   "source": [
    "fig, axes = plt.subplots(1, 2, figsize=(15,5))\n",
    "sns.countplot(ax=axes[0],x=\"gill-spacing\",data=data)\n",
    "sns.countplot(x=\"class\",hue=\"gill-spacing\",data=data)\n",
    "# the majority of instances have close gill spacing, no \"distant\" instances at all, consider removing\n",
    "# if mushroom has crowded gill spacing, more likely to be edible"
   ]
  },
  {
   "cell_type": "code",
   "execution_count": 14,
   "metadata": {},
   "outputs": [
    {
     "data": {
      "text/plain": [
       "<AxesSubplot:xlabel='class', ylabel='count'>"
      ]
     },
     "execution_count": 14,
     "metadata": {},
     "output_type": "execute_result"
    },
    {
     "data": {
      "image/png": "[encoded data removed]",
      "text/plain": [
       "<Figure size 432x288 with 1 Axes>"
      ]
     },
     "metadata": {
      "needs_background": "light"
     },
     "output_type": "display_data"
    }
   ],
   "source": [
    "sns.countplot(x=\"class\",hue=\"gill-color\",data=data)\n",
    "# the vast majority of mushrooms with buff gills are poisonous"
   ]
  },
  {
   "cell_type": "code",
   "execution_count": 15,
   "metadata": {},
   "outputs": [
    {
     "data": {
      "text/plain": [
       "<AxesSubplot:xlabel='class', ylabel='count'>"
      ]
     },
     "execution_count": 15,
     "metadata": {},
     "output_type": "execute_result"
    },
    {
     "data": {
      "image/png": "[encoded data removed]",
      "text/plain": [
       "<Figure size 432x288 with 1 Axes>"
      ]
     },
     "metadata": {
      "needs_background": "light"
     },
     "output_type": "display_data"
    }
   ],
   "source": [
    "sns.countplot(x=\"class\",hue=\"stalk-shape\",data=data)\n",
    "# fairly even split"
   ]
  },
  {
   "cell_type": "code",
   "execution_count": 16,
   "metadata": {},
   "outputs": [
    {
     "data": {
      "text/plain": [
       "<AxesSubplot:xlabel='class', ylabel='count'>"
      ]
     },
     "execution_count": 16,
     "metadata": {},
     "output_type": "execute_result"
    },
    {
     "data": {
      "image/png": "[encoded data removed]",
      "text/plain": [
       "<Figure size 1080x720 with 4 Axes>"
      ]
     },
     "metadata": {
      "needs_background": "light"
     },
     "output_type": "display_data"
    }
   ],
   "source": [
    "fig, axes = plt.subplots(2, 2, figsize=(15,10))\n",
    "sns.countplot(ax=axes[0,0],x=\"stalk-surface-above-ring\",data=data)\n",
    "sns.countplot(ax=axes[0,1],x=\"class\",hue=\"stalk-surface-above-ring\",data=data)\n",
    "sns.countplot(ax=axes[1,0],x=\"stalk-surface-below-ring\",data=data)\n",
    "sns.countplot(ax=axes[1,1],x=\"class\",hue=\"stalk-surface-below-ring\",data=data)\n",
    "# fairly mixed\n",
    "# very few yellow above-stalk instances"
   ]
  },
  {
   "cell_type": "code",
   "execution_count": 17,
   "metadata": {},
   "outputs": [
    {
     "data": {
      "text/plain": [
       "<AxesSubplot:xlabel='veil-color', ylabel='count'>"
      ]
     },
     "execution_count": 17,
     "metadata": {},
     "output_type": "execute_result"
    },
    {
     "data": {
      "image/png": "[encoded data removed]",
      "text/plain": [
       "<Figure size 432x288 with 1 Axes>"
      ]
     },
     "metadata": {
      "needs_background": "light"
     },
     "output_type": "display_data"
    }
   ],
   "source": [
    "sns.countplot(x=\"veil-color\",data=data)\n",
    "# vast majority of veils are white, CONSIDER REMOVING"
   ]
  },
  {
   "cell_type": "code",
   "execution_count": 18,
   "metadata": {},
   "outputs": [
    {
     "data": {
      "text/plain": [
       "<AxesSubplot:xlabel='class', ylabel='count'>"
      ]
     },
     "execution_count": 18,
     "metadata": {},
     "output_type": "execute_result"
    },
    {
     "data": {
      "image/png": "[encoded data removed]",
      "text/plain": [
       "<Figure size 1080x720 with 4 Axes>"
      ]
     },
     "metadata": {
      "needs_background": "light"
     },
     "output_type": "display_data"
    }
   ],
   "source": [
    "fig, axes = plt.subplots(2, 2, figsize=(15,10))\n",
    "sns.countplot(ax=axes[0,0],x=\"ring-number\",data=data)\n",
    "sns.countplot(ax=axes[0,1],x=\"class\", hue=\"ring-number\",data=data)\n",
    "sns.countplot(ax=axes[1,0],x=\"ring-type\",data=data)\n",
    "sns.countplot(ax=axes[1,1],x=\"class\", hue=\"ring-type\",data=data)\n",
    "# majority of instances have one ring, possibly worth removing - test\n",
    "# edible mushrooms more likely to have two rings\n",
    "# poisonous mushrooms more likely to have no rings\n",
    "# fairly mixed ring types, quite few flairing and none types"
   ]
  },
  {
   "cell_type": "code",
   "execution_count": 19,
   "metadata": {},
   "outputs": [
    {
     "data": {
      "text/plain": [
       "<AxesSubplot:xlabel='class', ylabel='count'>"
      ]
     },
     "execution_count": 19,
     "metadata": {},
     "output_type": "execute_result"
    },
    {
     "data": {
      "image/png": "[encoded data removed]",
      "text/plain": [
       "<Figure size 1080x360 with 2 Axes>"
      ]
     },
     "metadata": {
      "needs_background": "light"
     },
     "output_type": "display_data"
    }
   ],
   "source": [
    "fig, axes = plt.subplots(1, 2, figsize=(15,5))\n",
    "sns.countplot(ax=axes[0],x=\"spore-print-color\",data=data)\n",
    "sns.countplot(ax=axes[1],x=\"class\", hue=\"spore-print-color\",data=data)\n",
    "#fairly mixed"
   ]
  },
  {
   "cell_type": "code",
   "execution_count": 20,
   "metadata": {},
   "outputs": [
    {
     "data": {
      "text/plain": [
       "<AxesSubplot:xlabel='class', ylabel='count'>"
      ]
     },
     "execution_count": 20,
     "metadata": {},
     "output_type": "execute_result"
    },
    {
     "data": {
      "image/png": "[encoded data removed]",
      "text/plain": [
       "<Figure size 1080x360 with 2 Axes>"
      ]
     },
     "metadata": {
      "needs_background": "light"
     },
     "output_type": "display_data"
    }
   ],
   "source": [
    "fig, axes = plt.subplots(1, 2, figsize=(15,5))\n",
    "sns.countplot(ax=axes[0],x=\"population\",data=data)\n",
    "sns.countplot(ax=axes[1],x=\"class\", hue=\"population\",data=data)\n",
    "# fairly mixed populations, numerous and abundant populations seem to indicate edible"
   ]
  },
  {
   "cell_type": "code",
   "execution_count": 21,
   "metadata": {},
   "outputs": [
    {
     "data": {
      "text/plain": [
       "<AxesSubplot:xlabel='class', ylabel='count'>"
      ]
     },
     "execution_count": 21,
     "metadata": {},
     "output_type": "execute_result"
    },
    {
     "data": {
      "image/png": "[encoded data removed]",
      "text/plain": [
       "<Figure size 1080x360 with 2 Axes>"
      ]
     },
     "metadata": {
      "needs_background": "light"
     },
     "output_type": "display_data"
    }
   ],
   "source": [
    "fig, axes = plt.subplots(1, 2, figsize=(15,5))\n",
    "sns.countplot(ax=axes[0],x=\"habitat\",data=data)\n",
    "sns.countplot(ax=axes[1],x=\"class\", hue=\"habitat\",data=data)\n",
    "# fairly mixed habitats"
   ]
  },
  {
   "cell_type": "markdown",
   "metadata": {},
   "source": [
    "Useless features: gill-attachment, veil-type  #WRONG gill-attachment was useful, look at skewing in the data\n",
    "\n",
    "Less useful features: veil-color\n",
    "\n",
    "Consider for both: gill-spacing"
   ]
  },
  {
   "cell_type": "markdown",
   "metadata": {},
   "source": [
    "# Data Preparation and Splitting"
   ]
  },
  {
   "cell_type": "code",
   "execution_count": 22,
   "metadata": {},
   "outputs": [],
   "source": [
    "from sklearn.model_selection import train_test_split"
   ]
  },
  {
   "cell_type": "code",
   "execution_count": 23,
   "metadata": {},
   "outputs": [
    {
     "data": {
      "text/plain": [
       "Index(['class', 'cap-shape', 'cap-surface', 'cap-color', 'bruises', 'odor',\n",
       "       'gill-attachment', 'gill-spacing', 'gill-size', 'gill-color',\n",
       "       'stalk-shape', 'stalk-root', 'stalk-surface-above-ring',\n",
       "       'stalk-surface-below-ring', 'stalk-color-above-ring',\n",
       "       'stalk-color-below-ring', 'veil-type', 'veil-color', 'ring-number',\n",
       "       'ring-type', 'spore-print-color', 'population', 'habitat'],\n",
       "      dtype='object')"
      ]
     },
     "execution_count": 23,
     "metadata": {},
     "output_type": "execute_result"
    }
   ],
   "source": [
    "data.columns"
   ]
  },
  {
   "cell_type": "code",
   "execution_count": 106,
   "metadata": {},
   "outputs": [],
   "source": [
    "# Removed gill-attachment and veil-type features\n",
    "X = data[['cap-shape', 'cap-surface', 'cap-color', 'bruises', 'odor',\n",
    "       'gill-spacing', 'gill-size', 'gill-color',\n",
    "       'stalk-shape', 'stalk-root', 'stalk-surface-above-ring',\n",
    "       'stalk-surface-below-ring', 'stalk-color-above-ring',\n",
    "       'stalk-color-below-ring', 'veil-color', 'ring-number',\n",
    "       'ring-type', 'spore-print-color', 'population', 'habitat']]\n",
    "y = data['class']"
   ]
  },
  {
   "cell_type": "code",
   "execution_count": 107,
   "metadata": {},
   "outputs": [],
   "source": [
    "X_train, X_test, y_train, y_test = train_test_split(X, y, test_size=0.33, random_state=42)"
   ]
  },
  {
   "cell_type": "code",
   "execution_count": 108,
   "metadata": {},
   "outputs": [],
   "source": [
    "# experimenting with different encoding methods\n",
    "from sklearn.preprocessing import OrdinalEncoder\n",
    "from sklearn.preprocessing import OneHotEncoder\n",
    "ordinal_encoder = OrdinalEncoder()\n",
    "hot_encoder = OneHotEncoder()"
   ]
  },
  {
   "cell_type": "code",
   "execution_count": 109,
   "metadata": {},
   "outputs": [],
   "source": [
    "orddata_train = ordinal_encoder.fit_transform(X_train)\n",
    "hotdata_train = hot_encoder.fit_transform(X_train)\n",
    "orddata_test = ordinal_encoder.fit_transform(X_test)\n",
    "hotdata_test = hot_encoder.fit_transform(X_test)"
   ]
  },
  {
   "cell_type": "markdown",
   "metadata": {},
   "source": [
    "# Models"
   ]
  },
  {
   "cell_type": "markdown",
   "metadata": {},
   "source": [
    "**Model 1 - Logistic Regression**"
   ]
  },
  {
   "cell_type": "code",
   "execution_count": 110,
   "metadata": {},
   "outputs": [],
   "source": [
    "from sklearn.linear_model import LogisticRegression"
   ]
  },
  {
   "cell_type": "code",
   "execution_count": 111,
   "metadata": {},
   "outputs": [
    {
     "data": {
      "text/plain": [
       "LogisticRegression(max_iter=500)"
      ]
     },
     "execution_count": 111,
     "metadata": {},
     "output_type": "execute_result"
    }
   ],
   "source": [
    "log_reg_ord = LogisticRegression(max_iter=500)\n",
    "log_reg_hot = LogisticRegression(max_iter=500)\n",
    "log_reg_ord.fit(orddata_train,y_train)\n",
    "log_reg_hot.fit(hotdata_train,y_train)"
   ]
  },
  {
   "cell_type": "code",
   "execution_count": 112,
   "metadata": {},
   "outputs": [],
   "source": [
    "predict_ord = log_reg_ord.predict(orddata_test)\n",
    "predict_hot = log_reg_hot.predict(hotdata_test)"
   ]
  },
  {
   "cell_type": "code",
   "execution_count": 113,
   "metadata": {},
   "outputs": [],
   "source": [
    "from sklearn.metrics import classification_report,confusion_matrix"
   ]
  },
  {
   "cell_type": "code",
   "execution_count": 114,
   "metadata": {},
   "outputs": [
    {
     "name": "stdout",
     "output_type": "stream",
     "text": [
      "              precision    recall  f1-score   support\n",
      "\n",
      "           e       0.95      0.95      0.95      1378\n",
      "           p       0.95      0.95      0.95      1303\n",
      "\n",
      "    accuracy                           0.95      2681\n",
      "   macro avg       0.95      0.95      0.95      2681\n",
      "weighted avg       0.95      0.95      0.95      2681\n",
      "\n"
     ]
    }
   ],
   "source": [
    "# from context, we should prioritise\n",
    "print(classification_report(y_test,predict_ord))"
   ]
  },
  {
   "cell_type": "code",
   "execution_count": 119,
   "metadata": {},
   "outputs": [
    {
     "name": "stdout",
     "output_type": "stream",
     "text": [
      "              precision    recall  f1-score   support\n",
      "\n",
      "           e       1.00      1.00      1.00      1378\n",
      "           p       1.00      1.00      1.00      1303\n",
      "\n",
      "    accuracy                           1.00      2681\n",
      "   macro avg       1.00      1.00      1.00      2681\n",
      "weighted avg       1.00      1.00      1.00      2681\n",
      "\n"
     ]
    }
   ],
   "source": [
    "# One hot encoder achieves 100% accuracy on this set, possibly overfitting\n",
    "print(classification_report(y_test,predict_hot))"
   ]
  },
  {
   "cell_type": "code",
   "execution_count": 123,
   "metadata": {},
   "outputs": [
    {
     "data": {
      "text/plain": [
       "array(['e', 'p'], dtype=object)"
      ]
     },
     "execution_count": 123,
     "metadata": {},
     "output_type": "execute_result"
    }
   ],
   "source": [
    "log_reg_hot.classes_"
   ]
  },
  {
   "cell_type": "code",
   "execution_count": 129,
   "metadata": {},
   "outputs": [
    {
     "data": {
      "text/plain": [
       "array([[1313,   65],\n",
       "       [  69, 1234]], dtype=int64)"
      ]
     },
     "execution_count": 129,
     "metadata": {},
     "output_type": "execute_result"
    }
   ],
   "source": [
    "# if no labels are given to confusion matrix, matrix indices represent existing classes sorted in order (same as classes_ attribute) \n",
    "# positive class is \"poisonous\"\n",
    "# from context, we should aim to minimise False Negatives (labeling a poisonous mushroom as edible)\n",
    "confusion_matrix(y_test,predict_ord)\n",
    "# predicted 69 mushrooms were edible that were poisonous"
   ]
  },
  {
   "cell_type": "code",
   "execution_count": 130,
   "metadata": {},
   "outputs": [
    {
     "data": {
      "text/plain": [
       "array([[1378,    0],\n",
       "       [   0, 1303]], dtype=int64)"
      ]
     },
     "execution_count": 130,
     "metadata": {},
     "output_type": "execute_result"
    }
   ],
   "source": [
    "confusion_matrix(y_test,predict_hot)"
   ]
  },
  {
   "cell_type": "code",
   "execution_count": 136,
   "metadata": {},
   "outputs": [],
   "source": [
    "from sklearn.model_selection import cross_val_score, cross_val_predict"
   ]
  },
  {
   "cell_type": "code",
   "execution_count": 69,
   "metadata": {},
   "outputs": [
    {
     "data": {
      "text/plain": [
       "array([0.96703297, 0.96336996, 0.97069597, 0.95955882, 0.95220588,\n",
       "       0.93014706, 0.94485294, 0.94117647, 0.94852941, 0.94485294,\n",
       "       0.94485294, 0.94852941, 0.94485294, 0.94117647, 0.96323529,\n",
       "       0.94852941, 0.95588235, 0.95220588, 0.94852941, 0.95588235])"
      ]
     },
     "execution_count": 69,
     "metadata": {},
     "output_type": "execute_result"
    }
   ],
   "source": [
    "# using cross validation on 20 folds to determine whether model is over fitting\n",
    "# seems neither model overfits to training split\n",
    "ord_scores = cross_val_score(log_reg_ord, orddata_train, y_train, cv=20, scoring=\"accuracy\")\n",
    "ord_scores"
   ]
  },
  {
   "cell_type": "code",
   "execution_count": 249,
   "metadata": {},
   "outputs": [
    {
     "data": {
      "text/plain": [
       "array([1.        , 1.        , 1.        , 1.        , 1.        ,\n",
       "       1.        , 1.        , 1.        , 1.        , 1.        ,\n",
       "       1.        , 1.        , 1.        , 1.        , 1.        ,\n",
       "       1.        , 1.        , 0.99264706, 1.        , 1.        ])"
      ]
     },
     "execution_count": 249,
     "metadata": {},
     "output_type": "execute_result"
    }
   ],
   "source": [
    "# a logistic regression model with one hot encoding seems to be an extremely good model\n",
    "hot_scores = cross_val_score(log_reg_hot, hotdata_train, y_train, cv=20, scoring=\"accuracy\")\n",
    "hot_scores"
   ]
  },
  {
   "cell_type": "code",
   "execution_count": 253,
   "metadata": {},
   "outputs": [],
   "source": [
    "hot_log_reg_predict = cross_val_predict(log_reg_hot, hotdata_train, y_train, cv=20)"
   ]
  },
  {
   "cell_type": "code",
   "execution_count": 254,
   "metadata": {},
   "outputs": [
    {
     "data": {
      "text/plain": [
       "array(['e', 'p'], dtype=object)"
      ]
     },
     "execution_count": 254,
     "metadata": {},
     "output_type": "execute_result"
    }
   ],
   "source": [
    "log_reg_hot.classes_"
   ]
  },
  {
   "cell_type": "code",
   "execution_count": 255,
   "metadata": {},
   "outputs": [
    {
     "name": "stdout",
     "output_type": "stream",
     "text": [
      "[[2830    2]\n",
      " [   0 2611]]\n"
     ]
    }
   ],
   "source": [
    "print(confusion_matrix(hot_log_reg_predict,y_train))"
   ]
  },
  {
   "cell_type": "code",
   "execution_count": 256,
   "metadata": {},
   "outputs": [
    {
     "name": "stdout",
     "output_type": "stream",
     "text": [
      "              precision    recall  f1-score   support\n",
      "\n",
      "           e       1.00      1.00      1.00      2832\n",
      "           p       1.00      1.00      1.00      2611\n",
      "\n",
      "    accuracy                           1.00      5443\n",
      "   macro avg       1.00      1.00      1.00      5443\n",
      "weighted avg       1.00      1.00      1.00      5443\n",
      "\n"
     ]
    }
   ],
   "source": [
    "print(classification_report(hot_log_reg_predict,y_train))"
   ]
  },
  {
   "cell_type": "markdown",
   "metadata": {},
   "source": [
    "**Model 2 - Decision Tree and Random Forest**"
   ]
  },
  {
   "cell_type": "code",
   "execution_count": 59,
   "metadata": {},
   "outputs": [],
   "source": [
    "from sklearn.tree import DecisionTreeClassifier"
   ]
  },
  {
   "cell_type": "code",
   "execution_count": 60,
   "metadata": {},
   "outputs": [
    {
     "data": {
      "text/plain": [
       "DecisionTreeClassifier(max_depth=3)"
      ]
     },
     "execution_count": 60,
     "metadata": {},
     "output_type": "execute_result"
    }
   ],
   "source": [
    "# one hot encoding led to better results with Logistic regression so try this first\n",
    "hot_tree = DecisionTreeClassifier(max_depth=3)\n",
    "hot_tree.fit(hotdata_train, y_train)"
   ]
  },
  {
   "cell_type": "code",
   "execution_count": 61,
   "metadata": {},
   "outputs": [
    {
     "data": {
      "text/plain": [
       "array([0.98901099, 0.98534799, 0.98901099, 0.99264706, 0.98529412,\n",
       "       0.98161765, 0.99264706, 0.97426471, 0.97058824, 0.98897059,\n",
       "       0.98529412, 0.98897059, 0.98161765, 0.98161765, 0.98897059,\n",
       "       0.98529412, 0.97058824, 0.98161765, 0.98897059, 0.99264706])"
      ]
     },
     "execution_count": 61,
     "metadata": {},
     "output_type": "execute_result"
    }
   ],
   "source": [
    "hot_tree_scores = cross_val_score(hot_tree, hotdata_train, y_train, cv=20)\n",
    "hot_tree_scores"
   ]
  },
  {
   "cell_type": "code",
   "execution_count": 62,
   "metadata": {},
   "outputs": [
    {
     "data": {
      "text/plain": [
       "DecisionTreeClassifier(max_depth=3)"
      ]
     },
     "execution_count": 62,
     "metadata": {},
     "output_type": "execute_result"
    }
   ],
   "source": [
    "ord_tree = DecisionTreeClassifier(max_depth=3)\n",
    "ord_tree.fit(orddata_train, y_train)"
   ]
  },
  {
   "cell_type": "code",
   "execution_count": 133,
   "metadata": {},
   "outputs": [
    {
     "data": {
      "text/plain": [
       "array([0.97069597, 0.97802198, 0.97435897, 0.97426471, 0.95588235,\n",
       "       0.95955882, 0.96323529, 0.9375    , 0.93382353, 0.97426471,\n",
       "       0.94485294, 0.95220588, 0.95588235, 0.96323529, 0.96691176,\n",
       "       0.95588235, 0.96323529, 0.94485294, 0.94852941, 0.96323529])"
      ]
     },
     "execution_count": 133,
     "metadata": {},
     "output_type": "execute_result"
    }
   ],
   "source": [
    "# ordinal encoding again generally lead to lower scores\n",
    "ord_tree_scores = cross_val_score(ord_tree, orddata_train, y_train, cv=20)\n",
    "ord_tree_scores"
   ]
  },
  {
   "cell_type": "code",
   "execution_count": 146,
   "metadata": {},
   "outputs": [],
   "source": [
    "ord_tree_predict = cross_val_predict(ord_tree, orddata_train, y_train, cv=20)\n",
    "hot_tree_predict = cross_val_predict(hot_tree, hotdata_train, y_train, cv=20)"
   ]
  },
  {
   "cell_type": "code",
   "execution_count": 147,
   "metadata": {},
   "outputs": [
    {
     "name": "stdout",
     "output_type": "stream",
     "text": [
      "[[2682   75]\n",
      " [ 148 2538]]\n"
     ]
    }
   ],
   "source": [
    "print(confusion_matrix(ord_tree_predict,y_train))"
   ]
  },
  {
   "cell_type": "code",
   "execution_count": 148,
   "metadata": {},
   "outputs": [
    {
     "name": "stdout",
     "output_type": "stream",
     "text": [
      "              precision    recall  f1-score   support\n",
      "\n",
      "           e       0.97      0.95      0.96      2830\n",
      "           p       0.94      0.97      0.96      2613\n",
      "\n",
      "    accuracy                           0.96      5443\n",
      "   macro avg       0.96      0.96      0.96      5443\n",
      "weighted avg       0.96      0.96      0.96      5443\n",
      "\n"
     ]
    }
   ],
   "source": [
    "print(classification_report(y_train,ord_tree_predict))"
   ]
  },
  {
   "cell_type": "code",
   "execution_count": 149,
   "metadata": {},
   "outputs": [
    {
     "name": "stdout",
     "output_type": "stream",
     "text": [
      "[[2760   13]\n",
      " [  70 2600]]\n"
     ]
    }
   ],
   "source": [
    "# again one hot encoding produces a better classifier\n",
    "print(confusion_matrix(hot_tree_predict,y_train))"
   ]
  },
  {
   "cell_type": "code",
   "execution_count": 151,
   "metadata": {},
   "outputs": [
    {
     "name": "stdout",
     "output_type": "stream",
     "text": [
      "              precision    recall  f1-score   support\n",
      "\n",
      "           e       1.00      0.98      0.99      2830\n",
      "           p       0.97      1.00      0.98      2613\n",
      "\n",
      "    accuracy                           0.98      5443\n",
      "   macro avg       0.98      0.99      0.98      5443\n",
      "weighted avg       0.98      0.98      0.98      5443\n",
      "\n"
     ]
    }
   ],
   "source": [
    "print(classification_report(y_train,hot_tree_predict))"
   ]
  },
  {
   "cell_type": "code",
   "execution_count": 172,
   "metadata": {},
   "outputs": [],
   "source": [
    "# use a grid search to find an optimised tree depth\n",
    "from sklearn.model_selection import GridSearchCV"
   ]
  },
  {
   "cell_type": "code",
   "execution_count": 203,
   "metadata": {},
   "outputs": [],
   "source": [
    "tree_grid = [\n",
    "    {'max_depth':[2, 3, 4, 5, 6, 7, 8, 9, 10, 11, 12]},\n",
    "]\n",
    "\n",
    "grid_search = GridSearchCV(hot_tree, tree_grid,cv=5,return_train_score=True)"
   ]
  },
  {
   "cell_type": "code",
   "execution_count": 204,
   "metadata": {},
   "outputs": [
    {
     "data": {
      "text/plain": [
       "GridSearchCV(cv=5, estimator=DecisionTreeClassifier(max_depth=3),\n",
       "             param_grid=[{'max_depth': [2, 3, 4, 5, 6, 7, 8, 9, 10, 11, 12]}],\n",
       "             return_train_score=True)"
      ]
     },
     "execution_count": 204,
     "metadata": {},
     "output_type": "execute_result"
    }
   ],
   "source": [
    "grid_search.fit(hotdata_train,y_train)"
   ]
  },
  {
   "cell_type": "code",
   "execution_count": 190,
   "metadata": {},
   "outputs": [
    {
     "data": {
      "text/plain": [
       "DecisionTreeClassifier(max_depth=8)"
      ]
     },
     "execution_count": 190,
     "metadata": {},
     "output_type": "execute_result"
    }
   ],
   "source": [
    "grid_search.best_estimator_"
   ]
  },
  {
   "cell_type": "code",
   "execution_count": 266,
   "metadata": {},
   "outputs": [
    {
     "data": {
      "text/plain": [
       "array([1.        , 1.        , 1.        , 1.        , 1.        ,\n",
       "       1.        , 1.        , 1.        , 1.        , 1.        ,\n",
       "       1.        , 1.        , 1.        , 1.        , 1.        ,\n",
       "       1.        , 1.        , 0.99264706, 1.        , 1.        ])"
      ]
     },
     "execution_count": 266,
     "metadata": {},
     "output_type": "execute_result"
    }
   ],
   "source": [
    "# decision tree with depth of 8 and one hot encoding has similar accuracy to log_reg_hot\n",
    "opt_scores = cross_val_score(DecisionTreeClassifier(max_depth=8), hotdata_train, y_train, cv=20, scoring=\"accuracy\")\n",
    "opt_scores"
   ]
  },
  {
   "cell_type": "code",
   "execution_count": 273,
   "metadata": {},
   "outputs": [],
   "source": [
    "opt_tree_predict = cross_val_predict(DecisionTreeClassifier(max_depth=8), hotdata_train, y_train, cv=20)"
   ]
  },
  {
   "cell_type": "code",
   "execution_count": 276,
   "metadata": {},
   "outputs": [
    {
     "name": "stdout",
     "output_type": "stream",
     "text": [
      "[[2830    2]\n",
      " [   0 2611]]\n"
     ]
    }
   ],
   "source": [
    "print(confusion_matrix(opt_tree_predict,y_train))"
   ]
  },
  {
   "cell_type": "code",
   "execution_count": 277,
   "metadata": {},
   "outputs": [
    {
     "name": "stdout",
     "output_type": "stream",
     "text": [
      "              precision    recall  f1-score   support\n",
      "\n",
      "           e       1.00      1.00      1.00      2832\n",
      "           p       1.00      1.00      1.00      2611\n",
      "\n",
      "    accuracy                           1.00      5443\n",
      "   macro avg       1.00      1.00      1.00      5443\n",
      "weighted avg       1.00      1.00      1.00      5443\n",
      "\n"
     ]
    }
   ],
   "source": [
    "print(classification_report(opt_tree_predict,y_train))"
   ]
  },
  {
   "cell_type": "code",
   "execution_count": 193,
   "metadata": {},
   "outputs": [],
   "source": [
    "from sklearn.ensemble import RandomForestClassifier"
   ]
  },
  {
   "cell_type": "code",
   "execution_count": 212,
   "metadata": {},
   "outputs": [
    {
     "data": {
      "text/plain": [
       "RandomForestClassifier(max_leaf_nodes=16, n_estimators=500)"
      ]
     },
     "execution_count": 212,
     "metadata": {},
     "output_type": "execute_result"
    }
   ],
   "source": [
    "rnd_hot = RandomForestClassifier(n_estimators=500,max_leaf_nodes=16)\n",
    "rnd_hot.fit(hotdata_train,y_train)"
   ]
  },
  {
   "cell_type": "code",
   "execution_count": 199,
   "metadata": {},
   "outputs": [],
   "source": [
    "rnd_hot_predict = rnd_hot.predict(hotdata_test)"
   ]
  },
  {
   "cell_type": "code",
   "execution_count": 200,
   "metadata": {},
   "outputs": [
    {
     "name": "stdout",
     "output_type": "stream",
     "text": [
      "[[1378    4]\n",
      " [   0 1299]]\n"
     ]
    }
   ],
   "source": [
    "print(confusion_matrix(rnd_hot_predict,y_test))"
   ]
  },
  {
   "cell_type": "code",
   "execution_count": 202,
   "metadata": {},
   "outputs": [
    {
     "name": "stdout",
     "output_type": "stream",
     "text": [
      "              precision    recall  f1-score   support\n",
      "\n",
      "           e       1.00      1.00      1.00      1378\n",
      "           p       1.00      1.00      1.00      1303\n",
      "\n",
      "    accuracy                           1.00      2681\n",
      "   macro avg       1.00      1.00      1.00      2681\n",
      "weighted avg       1.00      1.00      1.00      2681\n",
      "\n"
     ]
    }
   ],
   "source": [
    "print(classification_report(y_test,rnd_hot_predict))"
   ]
  },
  {
   "cell_type": "code",
   "execution_count": 234,
   "metadata": {},
   "outputs": [],
   "source": [
    "# gridsearch to optimise hyperparameters\n",
    "forest_grid = [\n",
    "    {'n_estimators':[30,40,50,70,80,90,100],'max_leaf_nodes':[15,20,30,40]},\n",
    "]\n",
    "forest_search = GridSearchCV(rnd_hot, forest_grid,cv=5,return_train_score=True)"
   ]
  },
  {
   "cell_type": "code",
   "execution_count": 235,
   "metadata": {},
   "outputs": [
    {
     "data": {
      "text/plain": [
       "GridSearchCV(cv=5,\n",
       "             estimator=RandomForestClassifier(max_leaf_nodes=16,\n",
       "                                              n_estimators=500),\n",
       "             param_grid=[{'max_leaf_nodes': [15, 20, 30, 40],\n",
       "                          'n_estimators': [30, 40, 50, 70, 80, 90, 100]}],\n",
       "             return_train_score=True)"
      ]
     },
     "execution_count": 235,
     "metadata": {},
     "output_type": "execute_result"
    }
   ],
   "source": [
    "forest_search.fit(hotdata_train,y_train)"
   ]
  },
  {
   "cell_type": "code",
   "execution_count": 236,
   "metadata": {},
   "outputs": [
    {
     "data": {
      "text/plain": [
       "{'max_leaf_nodes': 20, 'n_estimators': 50}"
      ]
     },
     "execution_count": 236,
     "metadata": {},
     "output_type": "execute_result"
    }
   ],
   "source": [
    "forest_search.best_params_"
   ]
  },
  {
   "cell_type": "code",
   "execution_count": 279,
   "metadata": {},
   "outputs": [
    {
     "data": {
      "text/plain": [
       "RandomForestClassifier(max_leaf_nodes=20, n_estimators=50)"
      ]
     },
     "execution_count": 279,
     "metadata": {},
     "output_type": "execute_result"
    }
   ],
   "source": [
    "opt_rnd_hot = RandomForestClassifier(n_estimators=50,max_leaf_nodes=20)\n",
    "opt_rnd_hot.fit(hotdata_train,y_train)"
   ]
  },
  {
   "cell_type": "code",
   "execution_count": 280,
   "metadata": {},
   "outputs": [],
   "source": [
    "opt_rnd_hot_predict = opt_rnd_hot.predict(hotdata_test)"
   ]
  },
  {
   "cell_type": "code",
   "execution_count": 281,
   "metadata": {},
   "outputs": [],
   "source": [
    "opt_rnd_hot_predict = cross_val_predict(opt_rnd_hot, hotdata_train, y_train, cv=20)"
   ]
  },
  {
   "cell_type": "code",
   "execution_count": 282,
   "metadata": {},
   "outputs": [
    {
     "name": "stdout",
     "output_type": "stream",
     "text": [
      "[[2830    0]\n",
      " [   0 2613]]\n"
     ]
    }
   ],
   "source": [
    "print(confusion_matrix(y_train,opt_rnd_hot_predict))"
   ]
  },
  {
   "cell_type": "code",
   "execution_count": 265,
   "metadata": {},
   "outputs": [
    {
     "name": "stdout",
     "output_type": "stream",
     "text": [
      "              precision    recall  f1-score   support\n",
      "\n",
      "           e       1.00      1.00      1.00      2830\n",
      "           p       1.00      1.00      1.00      2613\n",
      "\n",
      "    accuracy                           1.00      5443\n",
      "   macro avg       1.00      1.00      1.00      5443\n",
      "weighted avg       1.00      1.00      1.00      5443\n",
      "\n"
     ]
    }
   ],
   "source": [
    "print(classification_report(y_train,opt_rnd_hot_predict))"
   ]
  },
  {
   "cell_type": "markdown",
   "metadata": {},
   "source": [
    "# Summary"
   ]
  },
  {
   "cell_type": "markdown",
   "metadata": {},
   "source": [
    "After transforming the data via One-Hot Encoding, there are various algorithms that produce a near perfect performance. However, from the context of the data, we should prioritise recall over precision which means aiming to minimise False Negatives. As a result, the Random Forest model seems to be the best."
   ]
  },
  {
   "cell_type": "markdown",
   "metadata": {},
   "source": []
  },
  {
   "cell_type": "code",
   "execution_count": 284,
   "metadata": {},
   "outputs": [],
   "source": [
    "final_pred = opt_rnd_hot.predict(hotdata_test)"
   ]
  },
  {
   "cell_type": "code",
   "execution_count": 286,
   "metadata": {},
   "outputs": [
    {
     "name": "stdout",
     "output_type": "stream",
     "text": [
      "[[1378    0]\n",
      " [   0 1303]]\n"
     ]
    }
   ],
   "source": [
    "print(confusion_matrix(final_pred,y_test))"
   ]
  },
  {
   "cell_type": "code",
   "execution_count": 287,
   "metadata": {},
   "outputs": [
    {
     "name": "stdout",
     "output_type": "stream",
     "text": [
      "              precision    recall  f1-score   support\n",
      "\n",
      "           e       1.00      1.00      1.00      1378\n",
      "           p       1.00      1.00      1.00      1303\n",
      "\n",
      "    accuracy                           1.00      2681\n",
      "   macro avg       1.00      1.00      1.00      2681\n",
      "weighted avg       1.00      1.00      1.00      2681\n",
      "\n"
     ]
    }
   ],
   "source": [
    "print(classification_report(final_pred,y_test))"
   ]
  },
  {
   "cell_type": "code",
   "execution_count": 288,
   "metadata": {},
   "outputs": [
    {
     "data": {
      "text/plain": [
       "array([2.02023894e-03, 5.11417586e-05, 8.99284111e-04, 2.52316987e-04,\n",
       "       4.87657772e-04, 5.15999462e-04, 7.77833927e-03, 1.68343292e-05,\n",
       "       3.23608750e-03, 1.45925955e-03, 1.94282589e-03, 4.23137853e-04,\n",
       "       1.28495406e-03, 6.74594194e-04, 3.29811603e-04, 2.47455112e-03,\n",
       "       0.00000000e+00, 1.25952083e-04, 2.82969309e-03, 6.97535393e-03,\n",
       "       1.85954071e-02, 1.38158098e-02, 4.89274704e-03, 1.19575457e-02,\n",
       "       6.98272086e-02, 1.62473673e-03, 1.20533847e-03, 1.21110215e-01,\n",
       "       1.58323765e-02, 6.48195764e-03, 9.37372019e-03, 1.63490025e-02,\n",
       "       1.85914366e-02, 6.57330976e-02, 7.21742966e-02, 3.28518742e-02,\n",
       "       0.00000000e+00, 2.90476241e-04, 5.82037848e-04, 1.42280107e-04,\n",
       "       7.95229715e-04, 0.00000000e+00, 9.38629578e-05, 2.15677209e-03,\n",
       "       3.33720625e-04, 1.99736562e-03, 2.02185503e-04, 1.11962507e-02,\n",
       "       1.07625572e-02, 7.95668810e-03, 7.92226944e-03, 5.37852975e-03,\n",
       "       1.15440063e-02, 2.03358317e-04, 6.90693748e-04, 5.03603664e-02,\n",
       "       3.24006756e-02, 2.58691738e-04, 6.49308070e-03, 5.28492827e-02,\n",
       "       2.00483049e-02, 3.25476116e-03, 0.00000000e+00, 5.81723769e-04,\n",
       "       1.50775916e-03, 1.05306436e-04, 8.89053604e-05, 0.00000000e+00,\n",
       "       2.06808522e-05, 3.02207375e-03, 3.29052826e-04, 2.53369245e-03,\n",
       "       3.11081337e-04, 0.00000000e+00, 1.64780802e-03, 3.08962356e-03,\n",
       "       2.27997508e-04, 2.72532055e-03, 4.04435134e-03, 6.05156515e-04,\n",
       "       5.41300059e-04, 0.00000000e+00, 2.67275490e-04, 2.98915779e-04,\n",
       "       1.42783904e-03, 5.86814892e-03, 4.39205383e-03, 6.75290140e-03,\n",
       "       1.25759245e-03, 2.57710692e-02, 3.67729425e-04, 1.84945392e-02,\n",
       "       0.00000000e+00, 5.74877545e-02, 1.80227530e-02, 1.10316378e-02,\n",
       "       0.00000000e+00, 4.81576008e-03, 1.36793767e-03, 1.79180494e-02,\n",
       "       0.00000000e+00, 4.30784433e-05, 1.25529020e-03, 1.79121870e-03,\n",
       "       3.51767571e-03, 1.50561980e-02, 6.64248779e-03, 8.31039022e-03,\n",
       "       6.08340892e-03, 1.08772916e-03, 2.75346810e-03, 2.95373584e-03,\n",
       "       1.03470371e-02, 1.12624033e-03])"
      ]
     },
     "execution_count": 288,
     "metadata": {},
     "output_type": "execute_result"
    }
   ],
   "source": [
    "opt_rnd_hot.feature_importances_"
   ]
  },
  {
   "cell_type": "code",
   "execution_count": 291,
   "metadata": {},
   "outputs": [],
   "source": [
    "cols= data.columns"
   ]
  },
  {
   "cell_type": "code",
   "execution_count": 308,
   "metadata": {},
   "outputs": [],
   "source": [
    "dummied_data = pd.get_dummies(data,cols,drop_first = False)"
   ]
  },
  {
   "cell_type": "code",
   "execution_count": 309,
   "metadata": {},
   "outputs": [],
   "source": [
    "D_train, D_test, y_train_1, y_test_1 = train_test_split(dummied_data, y, test_size=0.33, random_state=42)"
   ]
  },
  {
   "cell_type": "code",
   "execution_count": 310,
   "metadata": {},
   "outputs": [
    {
     "data": {
      "text/plain": [
       "RandomForestClassifier(max_leaf_nodes=20, n_estimators=50)"
      ]
     },
     "execution_count": 310,
     "metadata": {},
     "output_type": "execute_result"
    }
   ],
   "source": [
    "rndfor = RandomForestClassifier(n_estimators=50,max_leaf_nodes=20)\n",
    "rndfor.fit(D_train,y_train_1)"
   ]
  },
  {
   "cell_type": "code",
   "execution_count": 312,
   "metadata": {},
   "outputs": [
    {
     "name": "stdout",
     "output_type": "stream",
     "text": [
      "class_e 0.18626560066802844\n",
      "class_p 0.14176679030179246\n",
      "cap-shape_b 0.0\n",
      "cap-shape_c 9.619149203481712e-06\n",
      "cap-shape_f 0.00024111599712202416\n",
      "cap-shape_k 0.0005527902761039274\n",
      "cap-shape_s 0.0004262441190660972\n",
      "cap-shape_x 0.000161029123003124\n",
      "cap-surface_f 0.002096855352248682\n",
      "cap-surface_g 9.009839858774429e-05\n",
      "cap-surface_s 0.0026745567520374673\n",
      "cap-surface_y 0.002143859526499068\n",
      "cap-color_b 0.0003079539423018815\n",
      "cap-color_c 0.0003126760845391811\n",
      "cap-color_e 0.0010254167686226555\n",
      "cap-color_g 0.0002120456990492654\n",
      "cap-color_n 0.00010166236987925644\n",
      "cap-color_p 0.0006523554273012117\n",
      "cap-color_r 0.0\n",
      "cap-color_u 0.0\n",
      "cap-color_w 0.0010391113410239319\n",
      "cap-color_y 0.003131101753201708\n",
      "bruises_f 0.01680327632968999\n",
      "bruises_t 0.00588099747215024\n",
      "odor_a 0.002117349028210976\n",
      "odor_c 0.005461543271101206\n",
      "odor_f 0.03216283014656546\n",
      "odor_l 0.0030476406057689913\n",
      "odor_m 0.0\n",
      "odor_n 0.07862884687811703\n",
      "odor_p 0.006253374112193872\n",
      "odor_s 0.0\n",
      "odor_y 0.0056031818484444966\n",
      "gill-attachment_a 0.0\n",
      "gill-attachment_f 0.0\n",
      "gill-spacing_c 0.010444018848680467\n",
      "gill-spacing_w 0.006809361535950012\n",
      "gill-size_b 0.03530135248512103\n",
      "gill-size_n 0.06271399110069513\n",
      "gill-color_b 0.04895805341919471\n",
      "gill-color_e 0.0\n",
      "gill-color_g 0.00019664413872688173\n",
      "gill-color_h 0.0012137652310660197\n",
      "gill-color_k 3.729393607924989e-05\n",
      "gill-color_n 0.002554028390225396\n",
      "gill-color_o 0.0\n",
      "gill-color_p 2.2184881862174054e-05\n",
      "gill-color_r 0.00029651133148911747\n",
      "gill-color_u 0.0\n",
      "gill-color_w 0.0013685228241303747\n",
      "gill-color_y 6.491225477184254e-05\n",
      "stalk-shape_e 0.0022796259357255673\n",
      "stalk-shape_t 0.007263601645247336\n",
      "stalk-root_? 0.0057304064069911885\n",
      "stalk-root_b 0.006671026413470672\n",
      "stalk-root_c 0.00328386787689672\n",
      "stalk-root_e 0.008095660024316602\n",
      "stalk-root_r 0.0013503359454197176\n",
      "stalk-surface-above-ring_f 0.0024233426126352557\n",
      "stalk-surface-above-ring_k 0.058996304573257455\n",
      "stalk-surface-above-ring_s 0.02276776749762314\n",
      "stalk-surface-above-ring_y 0.00020000431275531014\n",
      "stalk-surface-below-ring_f 0.0029015206005942582\n",
      "stalk-surface-below-ring_k 0.025403190015388835\n",
      "stalk-surface-below-ring_s 0.017670929511446186\n",
      "stalk-surface-below-ring_y 0.0010899653919229355\n",
      "stalk-color-above-ring_b 2.5699907446902684e-05\n",
      "stalk-color-above-ring_c 0.0\n",
      "stalk-color-above-ring_e 0.0\n",
      "stalk-color-above-ring_g 0.000309874701735349\n",
      "stalk-color-above-ring_n 0.0\n",
      "stalk-color-above-ring_o 0.0\n",
      "stalk-color-above-ring_p 0.000859545665097102\n",
      "stalk-color-above-ring_w 0.0045217871119106355\n",
      "stalk-color-above-ring_y 9.106168738810793e-05\n",
      "stalk-color-below-ring_b 0.0\n",
      "stalk-color-below-ring_c 0.0007453236504081631\n",
      "stalk-color-below-ring_e 0.0\n",
      "stalk-color-below-ring_g 0.0006038199860385497\n",
      "stalk-color-below-ring_n 0.002382389628380353\n",
      "stalk-color-below-ring_o 0.0025253767965735365\n",
      "stalk-color-below-ring_p 0.0011760344089734962\n",
      "stalk-color-below-ring_w 0.0067169142884636246\n",
      "stalk-color-below-ring_y 0.00042172653175538406\n",
      "veil-type_p 0.0\n",
      "veil-color_n 0.0\n",
      "veil-color_o 0.0\n",
      "veil-color_w 0.0001215608286361736\n",
      "veil-color_y 6.827720244275198e-05\n",
      "ring-number_n 0.0013468751580401163\n",
      "ring-number_o 0.0008254786676388137\n",
      "ring-number_t 0.0003830615774608779\n",
      "ring-type_e 0.002742407668250418\n",
      "ring-type_f 0.0004093372030964478\n",
      "ring-type_l 0.030412742882836095\n",
      "ring-type_n 0.000715842231943189\n",
      "ring-type_p 0.03629147858386951\n",
      "spore-print-color_b 0.0\n",
      "spore-print-color_h 0.029955286344516142\n",
      "spore-print-color_k 0.0011710061965830602\n",
      "spore-print-color_n 0.00036783701940147173\n",
      "spore-print-color_o 0.0\n",
      "spore-print-color_r 0.00568394103705069\n",
      "spore-print-color_u 0.0009958346942864828\n",
      "spore-print-color_w 0.008503539777366405\n",
      "spore-print-color_y 0.0\n",
      "population_a 0.001181327303923267\n",
      "population_c 0.0004120557451215181\n",
      "population_n 0.0017708771852915424\n",
      "population_s 0.0007318556974048545\n",
      "population_v 0.008566884771738142\n",
      "population_y 0.0004817238667758382\n",
      "habitat_d 0.0023850171504760493\n",
      "habitat_g 0.003837102672460891\n",
      "habitat_l 0.00012235354841545545\n",
      "habitat_m 0.0004034307285923554\n",
      "habitat_p 0.0004110143784331494\n",
      "habitat_u 0.0024227715356749035\n",
      "habitat_w 0.0016214120945647651\n"
     ]
    }
   ],
   "source": [
    "for name,score in zip(dummied_data.columns,rndfor.feature_importances_):\n",
    "    print(name,score)"
   ]
  },
  {
   "cell_type": "code",
   "execution_count": null,
   "metadata": {},
   "outputs": [],
   "source": []
  }
 ],
 "metadata": {
  "kernelspec": {
   "display_name": "Python 3",
   "language": "python",
   "name": "python3"
  },
  "language_info": {
   "codemirror_mode": {
    "name": "ipython",
    "version": 3
   },
   "file_extension": ".py",
   "mimetype": "text/x-python",
   "name": "python",
   "nbconvert_exporter": "python",
   "pygments_lexer": "ipython3",
   "version": "3.8.5"
  }
 },
 "nbformat": 4,
 "nbformat_minor": 4
}
